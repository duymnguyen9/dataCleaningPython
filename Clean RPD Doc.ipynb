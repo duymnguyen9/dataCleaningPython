{
 "cells": [
  {
   "cell_type": "code",
   "execution_count": 22,
   "metadata": {},
   "outputs": [],
   "source": [
    "import pandas as pd"
   ]
  },
  {
   "cell_type": "code",
   "execution_count": 23,
   "metadata": {},
   "outputs": [
    {
     "name": "stdout",
     "output_type": "stream",
     "text": [
      "<class 'pandas.core.frame.DataFrame'>\n",
      "RangeIndex: 2262 entries, 0 to 2261\n",
      "Data columns (total 24 columns):\n",
      "Subject Area                            528 non-null object\n",
      "Presentation Table                      528 non-null object\n",
      "Presentation Column                     528 non-null object\n",
      "Expression - Presentation Column        0 non-null float64\n",
      "Description - Presentation Column       1940 non-null object\n",
      "Business Model                          536 non-null object\n",
      "Derived logical table                   11 non-null object\n",
      "Derived logical column                  3 non-null object\n",
      "Description - Derived Logical Column    8 non-null object\n",
      "Expression                              1737 non-null object\n",
      "Logical Table                           2262 non-null object\n",
      "Logical Column                          528 non-null object\n",
      "Description - Logical Column            1726 non-null object\n",
      "Logical Table Source                    2251 non-null object\n",
      "Expression.1                            525 non-null object\n",
      "Initialization Block                    0 non-null float64\n",
      "Variable                                1726 non-null object\n",
      "Database                                525 non-null object\n",
      "Physical Catalog                        1726 non-null object\n",
      "Physical Schema                         2251 non-null object\n",
      "Physical Table                          2251 non-null object\n",
      "Alias                                   2251 non-null object\n",
      "Physical Column                         525 non-null object\n",
      "Description - Physical Column           0 non-null float64\n",
      "dtypes: float64(3), object(21)\n",
      "memory usage: 424.2+ KB\n"
     ]
    }
   ],
   "source": [
    "df = pd.read_csv(\"doc/rpd_doc_september_2019.csv\")\n",
    "df.info()"
   ]
  },
  {
   "cell_type": "code",
   "execution_count": 24,
   "metadata": {},
   "outputs": [
    {
     "data": {
      "text/plain": [
       "array(['STU - INSTR - Instruction by Any Class Section',\n",
       "       'STU - INSTR - Instruction by Main Class Section', nan],\n",
       "      dtype=object)"
      ]
     },
     "execution_count": 24,
     "metadata": {},
     "output_type": "execute_result"
    }
   ],
   "source": [
    "df[\"Subject Area\"].unique()"
   ]
  },
  {
   "cell_type": "code",
   "execution_count": 25,
   "metadata": {},
   "outputs": [],
   "source": [
    "dfFilteredSubjectAreas = df[df[\"Subject Area\"].notnull()]"
   ]
  },
  {
   "cell_type": "code",
   "execution_count": 26,
   "metadata": {},
   "outputs": [
    {
     "data": {
      "text/plain": [
       "Index(['Subject Area', 'Presentation Table', 'Presentation Column',\n",
       "       'Expression - Presentation Column', 'Description - Presentation Column',\n",
       "       'Business Model', 'Derived logical table', 'Derived logical column',\n",
       "       'Description - Derived Logical Column', 'Expression', 'Logical Table',\n",
       "       'Logical Column', 'Description - Logical Column',\n",
       "       'Logical Table Source', 'Expression.1', 'Initialization Block',\n",
       "       'Variable', 'Database', 'Physical Catalog', 'Physical Schema',\n",
       "       'Physical Table', 'Alias', 'Physical Column',\n",
       "       'Description - Physical Column'],\n",
       "      dtype='object')"
      ]
     },
     "execution_count": 26,
     "metadata": {},
     "output_type": "execute_result"
    }
   ],
   "source": [
    "dfFilteredSubjectAreas.columns"
   ]
  },
  {
   "cell_type": "code",
   "execution_count": 27,
   "metadata": {},
   "outputs": [],
   "source": [
    "dfSlicedColumns = dfFilteredSubjectAreas[['Subject Area', 'Presentation Table', 'Presentation Column']]"
   ]
  },
  {
   "cell_type": "code",
   "execution_count": 28,
   "metadata": {},
   "outputs": [],
   "source": [
    "dfAnyClassRPD = dfFilteredSubjectAreas[dfFilteredSubjectAreas[\"Subject Area\"] == 'STU - INSTR - Instruction by Any Class Section']"
   ]
  },
  {
   "cell_type": "code",
   "execution_count": 29,
   "metadata": {},
   "outputs": [],
   "source": [
    "dfMainClassRPD = dfFilteredSubjectAreas[dfFilteredSubjectAreas[\"Subject Area\"] == 'STU - INSTR - Instruction by Main Class Section']"
   ]
  },
  {
   "cell_type": "code",
   "execution_count": 30,
   "metadata": {},
   "outputs": [
    {
     "name": "stdout",
     "output_type": "stream",
     "text": [
      "AnyClass length: 267\n",
      "MainClass length: 261\n"
     ]
    }
   ],
   "source": [
    "print(\"AnyClass length: \" + str(len(dfAnyClassRPD)))\n",
    "print(\"MainClass length: \" + str(len(dfMainClassRPD)))"
   ]
  },
  {
   "cell_type": "code",
   "execution_count": 31,
   "metadata": {},
   "outputs": [],
   "source": [
    "def createCSV(name, df):\n",
    "    df_final = df[['Presentation Table', 'Presentation Column']]\n",
    "    df_final.to_csv(\"doc/\" + name + \".csv\", index = None, header=None)"
   ]
  },
  {
   "cell_type": "code",
   "execution_count": 32,
   "metadata": {},
   "outputs": [],
   "source": [
    "createCSV(\"MainClassRPD\", dfMainClassRPD)\n",
    "createCSV(\"AnyClassRPD\", dfAnyClassRPD)"
   ]
  },
  {
   "cell_type": "code",
   "execution_count": null,
   "metadata": {},
   "outputs": [],
   "source": [
    "dfMainClassRPD"
   ]
  }
 ],
 "metadata": {
  "kernelspec": {
   "display_name": "Python 3",
   "language": "python",
   "name": "python3"
  },
  "language_info": {
   "codemirror_mode": {
    "name": "ipython",
    "version": 3
   },
   "file_extension": ".py",
   "mimetype": "text/x-python",
   "name": "python",
   "nbconvert_exporter": "python",
   "pygments_lexer": "ipython3",
   "version": "3.7.3"
  }
 },
 "nbformat": 4,
 "nbformat_minor": 2
}
